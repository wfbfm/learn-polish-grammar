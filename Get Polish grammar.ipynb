{
 "cells": [
  {
   "cell_type": "code",
   "execution_count": 169,
   "id": "a38f3309",
   "metadata": {},
   "outputs": [],
   "source": [
    "import requests\n",
    "from bs4 import BeautifulSoup\n",
    "from requests_html import HTMLSession\n",
    "import json"
   ]
  },
  {
   "cell_type": "code",
   "execution_count": null,
   "id": "45c73e2d",
   "metadata": {},
   "outputs": [],
   "source": [
    "def get_conjugations_translations(soup):\n",
    "    conj_tables = soup.find_all('div', class_='conjugation-table collapsable')\n",
    "\n",
    "    conjugations = {}\n",
    "    translations = {}\n",
    "\n",
    "    for conj_table in conj_tables:\n",
    "        # Find all div elements within the current conjugation table\n",
    "        divs = conj_table.find_all('div')\n",
    "        current_tense = 'None'\n",
    "\n",
    "        # Iterate through the div elements\n",
    "        for div in divs:\n",
    "            # Check the class of the div\n",
    "            class_name = div.get('class')\n",
    "\n",
    "            if 'pronounColumn' in class_name:\n",
    "                continue\n",
    "\n",
    "            if \"conjugation-cell conjugation-cell-four tense-title\" in ' '.join(class_name):\n",
    "                current_tense = div.text.strip()\n",
    "                conjugations[current_tense] = []\n",
    "                translations[current_tense] = []\n",
    "            elif \"conjugation-cell conjugation-cell-four\" in ' '.join(class_name):\n",
    "                meta_form = div.find('div', class_='meta-form')\n",
    "                if meta_form:\n",
    "                    conjugations[current_tense].append(meta_form.text.strip())\n",
    "                meta_translation = div.find('div', class_='meta-translation')\n",
    "                if meta_translation:\n",
    "                    translations[current_tense].append(meta_translation.text.strip())\n",
    "                    \n",
    "    return conjugations, translations\n",
    "\n",
    "def get_infinitive(soup):\n",
    "    infinitive = soup.find('span', id='mainform').get('data-default')\n",
    "    infinitive_translation = soup.find('span', id='mainform').text.strip().split('(')[1].split(')')[0]\n",
    "    return infinitive, infinitive_translation\n",
    "\n",
    "def getAllBaseForms(conjugations, infinitive):\n",
    "    baseForms = {}\n",
    "    for tense in conjugations:\n",
    "        baseForms[tense] = getBaseForm(conjugations[tense], infinitive)\n",
    "    return baseForms\n",
    "\n",
    "## baseForm\n",
    "def getBaseForm(conjugations, infinitive):\n",
    "    takeFirstWord = True\n",
    "    firstConjugation = conjugations[0].split(' ')\n",
    "    if firstConjugation[0] == 'będę':\n",
    "        takeFirstWord = False\n",
    "    wordsToTest = []\n",
    "    for conjugation in conjugations:\n",
    "        if takeFirstWord:\n",
    "            wordsToTest.append(conjugation.split(' ')[0])\n",
    "        else:\n",
    "            wordsToTest.append(conjugation.split(' ')[1])\n",
    "    firstTestWord = wordsToTest[0]\n",
    "    for i in range(len(firstTestWord)):\n",
    "        subWord = firstTestWord[:(len(firstTestWord) - i)]\n",
    "        \n",
    "        allMatch = True\n",
    "        for compareWord in wordsToTest:\n",
    "            if compareWord[:len(subWord)] != subWord:\n",
    "                allMatch = False\n",
    "                \n",
    "        if allMatch:\n",
    "            break\n",
    "    if subWord == infinitive:\n",
    "        return subWord\n",
    "    if subWord in wordsToTest:\n",
    "        return subWord[:-1]\n",
    "    else:\n",
    "        return subWord\n",
    "    \n",
    "def construct_json(infinitive, infinitive_translation, conjugations, translations, baseForms):\n",
    "    output_json = {}\n",
    "    output_json['verb'] = infinitive\n",
    "    output_json['translation'] = infinitive_translation\n",
    "    output_json['tenses'] = {}\n",
    "    for tense in conjugations:\n",
    "        tense_parent = {}\n",
    "        tense_parent['conjugations'] = conjugations[tense]\n",
    "        tense_parent['translations'] = translations[tense]\n",
    "        tense_parent['baseForm'] = baseForms[tense]\n",
    "        output_json['tenses'][tense] = tense_parent\n",
    "    return output_json"
   ]
  },
  {
   "cell_type": "code",
   "execution_count": 177,
   "id": "64a2bf21",
   "metadata": {},
   "outputs": [],
   "source": [
    "base_url = 'https://cooljugator.com/pl/'\n",
    "headers = {\"Accept-Language\": \"pl\"}\n",
    "\n",
    "verbs = ['wiedzieć', 'kopać', 'zjeść', 'iść', 'pisać', 'dawać', 'nieść', 'płakać',\n",
    "        'płacić', 'ganić', 'wrócić', 'suszyć', 'czytać', 'mieć', 'padać', 'wołać', 'jeść', 'umieć']\n",
    "data_output = []\n",
    "\n",
    "for verb in verbs:\n",
    "    s = HTMLSession()\n",
    "    response = s.get(base_url+verb, headers=headers)\n",
    "    response.encoding = response.apparent_encoding\n",
    "    soup = BeautifulSoup(response.text, features='html.parser')\n",
    "    \n",
    "    infinitive, infinitive_translation = get_infinitive(soup)\n",
    "    conjugations, translations = get_conjugations_translations(soup)\n",
    "    baseForms = getAllBaseForms(conjugations, infinitive)\n",
    "    data_output.append(construct_json(infinitive, infinitive_translation, conjugations, translations, baseForms))"
   ]
  },
  {
   "cell_type": "code",
   "execution_count": 176,
   "id": "ce382026",
   "metadata": {},
   "outputs": [
    {
     "data": {
      "text/plain": [
       "'być'"
      ]
     },
     "execution_count": 176,
     "metadata": {},
     "output_type": "execute_result"
    }
   ],
   "source": [
    "## być breaks the script, need to find out why\n",
    "verb"
   ]
  },
  {
   "cell_type": "code",
   "execution_count": 181,
   "id": "742381d1",
   "metadata": {},
   "outputs": [],
   "source": [
    "## json.dumps(data_output, ensure_ascii=False)\n",
    "with open('verbs.json', 'w', encoding='utf-8') as outfile:\n",
    "    json.dump(data_output, outfile, ensure_ascii=False)"
   ]
  },
  {
   "cell_type": "code",
   "execution_count": null,
   "id": "e345703a",
   "metadata": {},
   "outputs": [],
   "source": []
  }
 ],
 "metadata": {
  "kernelspec": {
   "display_name": "Python 3 (ipykernel)",
   "language": "python",
   "name": "python3"
  },
  "language_info": {
   "codemirror_mode": {
    "name": "ipython",
    "version": 3
   },
   "file_extension": ".py",
   "mimetype": "text/x-python",
   "name": "python",
   "nbconvert_exporter": "python",
   "pygments_lexer": "ipython3",
   "version": "3.10.5"
  }
 },
 "nbformat": 4,
 "nbformat_minor": 5
}
